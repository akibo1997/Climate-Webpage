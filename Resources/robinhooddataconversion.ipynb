{
 "metadata": {
  "language_info": {
   "codemirror_mode": {
    "name": "ipython",
    "version": 3
   },
   "file_extension": ".py",
   "mimetype": "text/x-python",
   "name": "python",
   "nbconvert_exporter": "python",
   "pygments_lexer": "ipython3",
   "version": "3.7.4-final"
  },
  "orig_nbformat": 2,
  "kernelspec": {
   "name": "python3",
   "display_name": "Python 3"
  }
 },
 "nbformat": 4,
 "nbformat_minor": 2,
 "cells": [
  {
   "cell_type": "code",
   "execution_count": 1,
   "metadata": {},
   "outputs": [],
   "source": [
    "import pandas as pd \n",
    "import os"
   ]
  },
  {
   "cell_type": "code",
   "execution_count": 8,
   "metadata": {},
   "outputs": [
    {
     "output_type": "execute_result",
     "data": {
      "text/plain": "            timestamp  users_holding\n0       5/2/2018 4:56          59936\n1       5/2/2018 6:41          59936\n2       5/3/2018 0:38          59950\n3       5/3/2018 6:36          59950\n4       5/3/2018 6:51          59950\n...               ...            ...\n14910  2/17/2020 4:50         218542\n14911  2/17/2020 5:50         218542\n14912  2/17/2020 6:50         218542\n14913  2/17/2020 7:50         218542\n14914  2/17/2020 8:50         218542\n\n[14915 rows x 2 columns]",
      "text/html": "<div>\n<style scoped>\n    .dataframe tbody tr th:only-of-type {\n        vertical-align: middle;\n    }\n\n    .dataframe tbody tr th {\n        vertical-align: top;\n    }\n\n    .dataframe thead th {\n        text-align: right;\n    }\n</style>\n<table border=\"1\" class=\"dataframe\">\n  <thead>\n    <tr style=\"text-align: right;\">\n      <th></th>\n      <th>timestamp</th>\n      <th>users_holding</th>\n    </tr>\n  </thead>\n  <tbody>\n    <tr>\n      <td>0</td>\n      <td>5/2/2018 4:56</td>\n      <td>59936</td>\n    </tr>\n    <tr>\n      <td>1</td>\n      <td>5/2/2018 6:41</td>\n      <td>59936</td>\n    </tr>\n    <tr>\n      <td>2</td>\n      <td>5/3/2018 0:38</td>\n      <td>59950</td>\n    </tr>\n    <tr>\n      <td>3</td>\n      <td>5/3/2018 6:36</td>\n      <td>59950</td>\n    </tr>\n    <tr>\n      <td>4</td>\n      <td>5/3/2018 6:51</td>\n      <td>59950</td>\n    </tr>\n    <tr>\n      <td>...</td>\n      <td>...</td>\n      <td>...</td>\n    </tr>\n    <tr>\n      <td>14910</td>\n      <td>2/17/2020 4:50</td>\n      <td>218542</td>\n    </tr>\n    <tr>\n      <td>14911</td>\n      <td>2/17/2020 5:50</td>\n      <td>218542</td>\n    </tr>\n    <tr>\n      <td>14912</td>\n      <td>2/17/2020 6:50</td>\n      <td>218542</td>\n    </tr>\n    <tr>\n      <td>14913</td>\n      <td>2/17/2020 7:50</td>\n      <td>218542</td>\n    </tr>\n    <tr>\n      <td>14914</td>\n      <td>2/17/2020 8:50</td>\n      <td>218542</td>\n    </tr>\n  </tbody>\n</table>\n<p>14915 rows × 2 columns</p>\n</div>"
     },
     "metadata": {},
     "execution_count": 8
    }
   ],
   "source": [
    "# Read in csv file\n",
    "csv=pd.read_csv(r'Disney Robinhood Data.csv')\n",
    "csv"
   ]
  },
  {
   "cell_type": "code",
   "execution_count": null,
   "metadata": {},
   "outputs": [],
   "source": []
  }
 ]
}